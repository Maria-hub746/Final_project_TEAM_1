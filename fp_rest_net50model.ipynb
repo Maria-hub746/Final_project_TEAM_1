{
  "cells": [
    {
      "cell_type": "code",
      "execution_count": null,
      "metadata": {
        "id": "irxEYiI9hiLa"
      },
      "outputs": [],
      "source": [
        "import numpy as np\n",
        "import tensorflow as tf\n",
        "from tensorflow import keras\n",
        "from tensorflow.keras.datasets import cifar10\n",
        "from tensorflow.keras.applications import VGG19\n",
        "from tensorflow.keras.models import Sequential\n",
        "from tensorflow.keras.layers import Conv2D, MaxPooling2D, Flatten, Dense, Dropout, GlobalAveragePooling2D, Resizing"
      ]
    },
    {
      "cell_type": "code",
      "execution_count": null,
      "metadata": {
        "colab": {
          "base_uri": "https://localhost:8080/"
        },
        "id": "_5kiUtsbh_1k",
        "outputId": "dc7a26c3-f093-4337-dcfa-6cfdc5906754"
      },
      "outputs": [
        {
          "name": "stdout",
          "output_type": "stream",
          "text": [
            "Downloading data from https://www.cs.toronto.edu/~kriz/cifar-10-python.tar.gz\n",
            "170498071/170498071 [==============================] - 14s 0us/step\n"
          ]
        }
      ],
      "source": [
        "(train_images,train_labels),(test_images,test_labels) = cifar10.load_data()"
      ]
    },
    {
      "cell_type": "code",
      "execution_count": null,
      "metadata": {
        "id": "d6m-7USciCqG"
      },
      "outputs": [],
      "source": [
        "train_labels = train_labels.reshape(-1)\n",
        "test_labels = test_labels.reshape(-1)"
      ]
    },
    {
      "cell_type": "code",
      "execution_count": null,
      "metadata": {
        "id": "yRTrON8jiEF5"
      },
      "outputs": [],
      "source": [
        "train_images = train_images / 255.0\n",
        "test_images = test_images / 255.0"
      ]
    },
    {
      "cell_type": "code",
      "execution_count": null,
      "metadata": {
        "colab": {
          "base_uri": "https://localhost:8080/"
        },
        "id": "uViH5otChldv",
        "outputId": "1742536a-f5cd-40fd-e94a-64e5e91b6eff"
      },
      "outputs": [
        {
          "name": "stdout",
          "output_type": "stream",
          "text": [
            "Downloading data from https://storage.googleapis.com/tensorflow/keras-applications/resnet/resnet50v2_weights_tf_dim_ordering_tf_kernels_notop.h5\n",
            "94668760/94668760 [==============================] - 5s 0us/step\n"
          ]
        }
      ],
      "source": [
        "from tensorflow.keras.applications import ResNet50V2\n",
        "\n",
        "resnet = ResNet50V2(weights='imagenet', include_top=False)\n",
        "resnet.trainable = False"
      ]
    },
    {
      "cell_type": "code",
      "execution_count": null,
      "metadata": {
        "id": "jlIFHOUAht8w"
      },
      "outputs": [],
      "source": [
        "model3 = Sequential()\n",
        "model3.add(Resizing(224, 224, input_shape=(32, 32, 3)))\n",
        "model3.add(resnet)\n",
        "model3.add(GlobalAveragePooling2D())\n",
        "model3.add(Dense(512, activation='relu'))\n",
        "model3.add(Dropout(0.5))\n",
        "model3.add(Dense(512, activation='relu'))\n",
        "model3.add(Dense(10, activation='softmax'))"
      ]
    },
    {
      "cell_type": "code",
      "execution_count": null,
      "metadata": {
        "id": "thFRRR4lhuo0"
      },
      "outputs": [],
      "source": [
        "adam=keras.optimizers.Adam(learning_rate=0.001,amsgrad=True)\n",
        "model3.compile(optimizer=adam, loss='sparse_categorical_crossentropy', metrics=['accuracy'])"
      ]
    },
    {
      "cell_type": "code",
      "execution_count": null,
      "metadata": {
        "colab": {
          "base_uri": "https://localhost:8080/"
        },
        "id": "GTRMck0zhxNg",
        "outputId": "dea565ce-5761-4677-8455-4ec627087d00"
      },
      "outputs": [
        {
          "name": "stdout",
          "output_type": "stream",
          "text": [
            "Epoch 1/20\n",
            "781/781 [==============================] - 185s 218ms/step - loss: 0.6199 - accuracy: 0.7877 - val_loss: 0.4796 - val_accuracy: 0.8307\n",
            "Epoch 2/20\n",
            "781/781 [==============================] - 171s 219ms/step - loss: 0.4637 - accuracy: 0.8402 - val_loss: 0.4310 - val_accuracy: 0.8532\n",
            "Epoch 3/20\n",
            "781/781 [==============================] - 172s 220ms/step - loss: 0.4074 - accuracy: 0.8604 - val_loss: 0.4004 - val_accuracy: 0.8576\n",
            "Epoch 4/20\n",
            "781/781 [==============================] - 172s 220ms/step - loss: 0.3671 - accuracy: 0.8728 - val_loss: 0.3992 - val_accuracy: 0.8642\n",
            "Epoch 5/20\n",
            "781/781 [==============================] - 172s 220ms/step - loss: 0.3416 - accuracy: 0.8783 - val_loss: 0.3891 - val_accuracy: 0.8647\n",
            "Epoch 6/20\n",
            "781/781 [==============================] - 171s 220ms/step - loss: 0.3104 - accuracy: 0.8900 - val_loss: 0.3960 - val_accuracy: 0.8652\n",
            "Epoch 7/20\n",
            "781/781 [==============================] - 171s 219ms/step - loss: 0.2916 - accuracy: 0.8974 - val_loss: 0.3885 - val_accuracy: 0.8659\n",
            "Epoch 8/20\n",
            "781/781 [==============================] - 171s 219ms/step - loss: 0.2691 - accuracy: 0.9034 - val_loss: 0.3975 - val_accuracy: 0.8692\n",
            "Epoch 9/20\n",
            "781/781 [==============================] - 171s 219ms/step - loss: 0.2507 - accuracy: 0.9112 - val_loss: 0.3953 - val_accuracy: 0.8688\n",
            "Epoch 10/20\n",
            "781/781 [==============================] - 171s 220ms/step - loss: 0.2335 - accuracy: 0.9157 - val_loss: 0.3982 - val_accuracy: 0.8699\n",
            "Epoch 11/20\n",
            "781/781 [==============================] - 171s 219ms/step - loss: 0.2230 - accuracy: 0.9199 - val_loss: 0.4032 - val_accuracy: 0.8700\n",
            "Epoch 12/20\n",
            "781/781 [==============================] - 156s 199ms/step - loss: 0.2052 - accuracy: 0.9253 - val_loss: 0.4174 - val_accuracy: 0.8682\n",
            "Epoch 13/20\n",
            "781/781 [==============================] - 172s 221ms/step - loss: 0.1922 - accuracy: 0.9314 - val_loss: 0.4205 - val_accuracy: 0.8725\n",
            "Epoch 14/20\n",
            "781/781 [==============================] - 172s 220ms/step - loss: 0.1789 - accuracy: 0.9350 - val_loss: 0.4134 - val_accuracy: 0.8735\n",
            "Epoch 15/20\n",
            "781/781 [==============================] - 171s 219ms/step - loss: 0.1733 - accuracy: 0.9370 - val_loss: 0.4449 - val_accuracy: 0.8722\n",
            "Epoch 16/20\n",
            "781/781 [==============================] - 172s 220ms/step - loss: 0.1612 - accuracy: 0.9420 - val_loss: 0.4317 - val_accuracy: 0.8747\n",
            "Epoch 17/20\n",
            "781/781 [==============================] - 172s 220ms/step - loss: 0.1564 - accuracy: 0.9436 - val_loss: 0.4446 - val_accuracy: 0.8694\n",
            "Epoch 18/20\n",
            "781/781 [==============================] - 171s 219ms/step - loss: 0.1462 - accuracy: 0.9480 - val_loss: 0.4500 - val_accuracy: 0.8710\n",
            "Epoch 19/20\n",
            "781/781 [==============================] - 171s 219ms/step - loss: 0.1429 - accuracy: 0.9491 - val_loss: 0.4578 - val_accuracy: 0.8727\n",
            "Epoch 20/20\n",
            "561/781 [====================>.........] - ETA: 36s - loss: 0.1358 - accuracy: 0.9507"
          ]
        },
        {
          "name": "stderr",
          "output_type": "stream",
          "text": [
            "WARNING:tensorflow:Your input ran out of data; interrupting training. Make sure that your dataset or generator can generate at least `steps_per_epoch * epochs` batches (in this case, 15620 batches). You may need to use the repeat() function when building your dataset.\n"
          ]
        },
        {
          "name": "stdout",
          "output_type": "stream",
          "text": [
            "\b\b\b\b\b\b\b\b\b\b\b\b\b\b\b\b\b\b\b\b\b\b\b\b\b\b\b\b\b\b\b\b\b\b\b\b\b\b\b\b\b\b\b\b\b\b\b\b\b\b\b\b\b\b\b\b\b\b\b\b\b\b\b\b\b\b\b\b\b\b\b\b\b\b\b\b\b\b\b\b\b\b\b\b\b\r781/781 [==============================] - 135s 173ms/step - loss: 0.1358 - accuracy: 0.9507 - val_loss: 0.4609 - val_accuracy: 0.8700\n"
          ]
        },
        {
          "data": {
            "text/plain": [
              "<keras.callbacks.History at 0x798606af22f0>"
            ]
          },
          "execution_count": 8,
          "metadata": {},
          "output_type": "execute_result"
        }
      ],
      "source": [
        "model3.fit(train_images, train_labels, epochs=20,steps_per_epoch = len(train_images)//64, validation_data=(test_images, test_labels))"
      ]
    },
    {
      "cell_type": "code",
      "execution_count": null,
      "metadata": {
        "id": "6yoMkcROhzSz"
      },
      "outputs": [],
      "source": [
        "model3.trainable = True"
      ]
    },
    {
      "cell_type": "code",
      "execution_count": null,
      "metadata": {
        "id": "zbkZm_Vsh1U7"
      },
      "outputs": [],
      "source": [
        "adam=keras.optimizers.Adam(learning_rate=1e-5,amsgrad=True)\n",
        "model3.compile(optimizer=adam, loss='sparse_categorical_crossentropy', metrics=['accuracy'])"
      ]
    },
    {
      "cell_type": "code",
      "execution_count": null,
      "metadata": {
        "colab": {
          "base_uri": "https://localhost:8080/",
          "height": 782
        },
        "id": "8DqLUYX5h2oF",
        "outputId": "17f54962-5d37-4b92-ebd9-4759c5dfb204"
      },
      "outputs": [],
      "source": [
        "model3.fit(train_images, train_labels, epochs=20,steps_per_epoch = len(train_images)//64, validation_data=(test_images, test_labels))"
      ]
    },
    {
      "cell_type": "code",
      "execution_count": null,
      "metadata": {
        "id": "hvwZT9YOEGy-"
      },
      "outputs": [],
      "source": [
        "model3.save('mega_rest.keras')"
      ]
    },
    {
      "cell_type": "code",
      "execution_count": null,
      "metadata": {
        "id": "5N3wL9TgJ7lP"
      },
      "outputs": [],
      "source": [
        "model3.save('mega_rest.h5', save_format='h5')"
      ]
    },
    {
      "cell_type": "code",
      "execution_count": null,
      "metadata": {
        "colab": {
          "base_uri": "https://localhost:8080/"
        },
        "id": "oZxbPWnrLEP9",
        "outputId": "10e28400-d61d-4a9c-b6fc-956daaa9568f"
      },
      "outputs": [
        {
          "name": "stdout",
          "output_type": "stream",
          "text": [
            "313/313 [==============================] - 25s 81ms/step - loss: 0.2588 - accuracy: 0.9380\n",
            "Test accuracy : 0.9380000233650208\n"
          ]
        }
      ],
      "source": [
        "_, test_acc = model3.evaluate(test_images, test_labels)\n",
        "print('Test accuracy :', test_acc)"
      ]
    }
  ],
  "metadata": {
    "accelerator": "GPU",
    "colab": {
      "gpuType": "T4",
      "provenance": []
    },
    "kernelspec": {
      "display_name": "Python 3",
      "name": "python3"
    },
    "language_info": {
      "name": "python"
    }
  },
  "nbformat": 4,
  "nbformat_minor": 0
}
